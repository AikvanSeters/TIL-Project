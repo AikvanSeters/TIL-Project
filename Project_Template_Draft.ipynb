{
 "cells": [
  {
   "cell_type": "markdown",
   "metadata": {},
   "source": [
    "# Project Group - \n",
    "\n",
    "Members & Student numbers: \n",
    "- Aik van Seters - 4939484\n",
    "- Laura Drechsel - 4706080\n",
    "- Dion Mol       - 4943694\n",
    "- Martijn Koning - 5185904\n"
   ]
  },
  {
   "cell_type": "raw",
   "metadata": {},
   "source": [
    "# Research Objective & SMART Criteria\n",
    "\n",
    "How did COVID-19 affect travel reasons within the different provinces in The Netherlands per month? \n",
    "\n",
    "\n",
    "SMART criteria\n",
    "\n",
    "Specific - This question will focus on how covid-19 infections affected the travel reasons within the Netherlands. The purpose is to find out if this indeed happened, and if so, how much and what categories faced the largest shift?\n",
    "\n",
    "Measurable - Outcomes of the dataset analysis will focus on (1) the different travel reasons, (2) the differences per province, additional: (3) the different age categories within the Netherlands, (4) the changed distance (for instance, someone is maybe more likely to travel more/less distance for a specific occupation during this period).\n",
    "\n",
    "Achievable - Different datasets will be used, gathered over the past years by different data collecting institutions (RIVM data on covid cases, CBS travel reasons).\n",
    "\n",
    "Relevant - Relevance because it is useful to gain insights in the shift in travel reasons within The Netherlands due to the corona pandemic.\n",
    "\n",
    "Time-Bound - This research question focuses on the time period 2018 (the period before corona) until and including the year 2021. The year 2022 is left out of the analysis since data is not gathered of this entire year yet. \n"
   ]
  },
  {
   "cell_type": "markdown",
   "metadata": {},
   "source": []
  },
  {
   "cell_type": "markdown",
   "metadata": {},
   "source": [
    "# Contribution Statement\n",
    "\n",
    "*Be specific. Some of the tasks can be coding (expect everyone to do this), background research, conceptualisation, visualisation, data analysis, data modelling*"
   ]
  },
  {
   "cell_type": "markdown",
   "metadata": {},
   "source": [
    "We will fill this in during the next lecture/ when a clear task division has been established within the group.\n",
    "\n",
    "**Author 1**: \n",
    "\n",
    "**Author 2**:\n",
    "\n",
    "**Author 3**:\n",
    "\n",
    "**Author 4**:"
   ]
  },
  {
   "cell_type": "markdown",
   "metadata": {},
   "source": [
    "# Data Used"
   ]
  },
  {
   "cell_type": "markdown",
   "metadata": {},
   "source": []
  },
  {
   "cell_type": "markdown",
   "metadata": {},
   "source": [
    "# Data Pipeline"
   ]
  },
  {
   "cell_type": "markdown",
   "metadata": {},
   "source": [
    "Data file 1, source 1: https://data.rivm.nl/covid-19/\n",
    "We will use this source to analyze the number of cases per municipality/province. Hence, once this data is sorted and analyzed, we will try to find any correlations with the data analyzed in file 2.\n",
    "\n",
    "Data file 2: CBS travel reasons data file https://opendata.cbs.nl/statline/portal.html?_la=en&_catalog=CBS&tableId=85055ENG&_theme=1159 \n",
    "The data from this file contains insights within the distance traveled, distance per day, occupation/reason for traveling, and age category. \n",
    "\n",
    "When using those 2 data files, we will try to discover if there are any correlations between the phase before corona and during corona in terms of shift in occupation, relative per age category.\n",
    "\n",
    "\n"
   ]
  }
 ],
 "metadata": {
  "kernelspec": {
   "display_name": "Python 3 (ipykernel)",
   "language": "python",
   "name": "python3"
  },
  "language_info": {
   "codemirror_mode": {
    "name": "ipython",
    "version": 3
   },
   "file_extension": ".py",
   "mimetype": "text/x-python",
   "name": "python",
   "nbconvert_exporter": "python",
   "pygments_lexer": "ipython3",
   "version": "3.9.12"
  },
  "vscode": {
   "interpreter": {
    "hash": "31f2aee4e71d21fbe5cf8b01ff0e069b9275f58929596ceb00d14d90e3e16cd6"
   }
  }
 },
 "nbformat": 4,
 "nbformat_minor": 2
}
